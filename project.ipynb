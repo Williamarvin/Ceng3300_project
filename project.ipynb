{
 "cells": [
  {
   "cell_type": "code",
   "execution_count": 10,
   "metadata": {},
   "outputs": [],
   "source": [
    "# Import all the modules\n",
    "import pandas as pd"
   ]
  },
  {
   "cell_type": "code",
   "execution_count": 11,
   "metadata": {},
   "outputs": [],
   "source": [
    "# Load the dataset\n",
    "tox_df = pd.DataFrame()\n",
    "tox_df = pd.read_csv(\"tox21_with_smiles.csv\")"
   ]
  },
  {
   "cell_type": "code",
   "execution_count": 12,
   "metadata": {},
   "outputs": [
    {
     "data": {
      "text/html": [
       "<div>\n",
       "<style scoped>\n",
       "    .dataframe tbody tr th:only-of-type {\n",
       "        vertical-align: middle;\n",
       "    }\n",
       "\n",
       "    .dataframe tbody tr th {\n",
       "        vertical-align: top;\n",
       "    }\n",
       "\n",
       "    .dataframe thead th {\n",
       "        text-align: right;\n",
       "    }\n",
       "</style>\n",
       "<table border=\"1\" class=\"dataframe\">\n",
       "  <thead>\n",
       "    <tr style=\"text-align: right;\">\n",
       "      <th></th>\n",
       "      <th>Unnamed: 0</th>\n",
       "      <th>index</th>\n",
       "      <th>ID</th>\n",
       "      <th>inchikey</th>\n",
       "      <th>sdftitle</th>\n",
       "      <th>order</th>\n",
       "      <th>set</th>\n",
       "      <th>CVfold</th>\n",
       "      <th>NR.AhR</th>\n",
       "      <th>NR.AR</th>\n",
       "      <th>...</th>\n",
       "      <th>NR.Aromatase</th>\n",
       "      <th>NR.ER</th>\n",
       "      <th>NR.ER.LBD</th>\n",
       "      <th>NR.PPAR.gamma</th>\n",
       "      <th>SR.ARE</th>\n",
       "      <th>SR.ATAD5</th>\n",
       "      <th>SR.HSE</th>\n",
       "      <th>SR.MMP</th>\n",
       "      <th>SR.p53</th>\n",
       "      <th>smiles</th>\n",
       "    </tr>\n",
       "  </thead>\n",
       "  <tbody>\n",
       "    <tr>\n",
       "      <th>0</th>\n",
       "      <td>0</td>\n",
       "      <td>0</td>\n",
       "      <td>NCGC00178831-03</td>\n",
       "      <td>PEJLNXHANOHNSU-UHFFFAOYSA-N</td>\n",
       "      <td>NCGC00178831-03</td>\n",
       "      <td>0</td>\n",
       "      <td>training</td>\n",
       "      <td>4.0</td>\n",
       "      <td>NaN</td>\n",
       "      <td>NaN</td>\n",
       "      <td>...</td>\n",
       "      <td>NaN</td>\n",
       "      <td>NaN</td>\n",
       "      <td>NaN</td>\n",
       "      <td>NaN</td>\n",
       "      <td>NaN</td>\n",
       "      <td>NaN</td>\n",
       "      <td>0.0</td>\n",
       "      <td>NaN</td>\n",
       "      <td>NaN</td>\n",
       "      <td>C[n+]1c2cc(N)ccc2cc2ccc(N)cc21.Nc1ccc2cc3ccc(N...</td>\n",
       "    </tr>\n",
       "    <tr>\n",
       "      <th>1</th>\n",
       "      <td>1</td>\n",
       "      <td>1</td>\n",
       "      <td>NCGC00166114-03</td>\n",
       "      <td>SEACYXSIPDVVMV-UHFFFAOYSA-L</td>\n",
       "      <td>NCGC00166114-03</td>\n",
       "      <td>1</td>\n",
       "      <td>training</td>\n",
       "      <td>NaN</td>\n",
       "      <td>NaN</td>\n",
       "      <td>NaN</td>\n",
       "      <td>...</td>\n",
       "      <td>NaN</td>\n",
       "      <td>NaN</td>\n",
       "      <td>NaN</td>\n",
       "      <td>NaN</td>\n",
       "      <td>NaN</td>\n",
       "      <td>NaN</td>\n",
       "      <td>0.0</td>\n",
       "      <td>NaN</td>\n",
       "      <td>NaN</td>\n",
       "      <td>O=C([O-])c1ccccc1-c1c2cc(Br)c(=O)c(Br)c-2oc2c(...</td>\n",
       "    </tr>\n",
       "    <tr>\n",
       "      <th>2</th>\n",
       "      <td>2</td>\n",
       "      <td>2</td>\n",
       "      <td>NCGC00263563-01</td>\n",
       "      <td>WQGJEAMPBSZCIF-VEKNOCPUSA-N</td>\n",
       "      <td>NCGC00263563-01</td>\n",
       "      <td>2</td>\n",
       "      <td>training</td>\n",
       "      <td>4.0</td>\n",
       "      <td>NaN</td>\n",
       "      <td>NaN</td>\n",
       "      <td>...</td>\n",
       "      <td>NaN</td>\n",
       "      <td>NaN</td>\n",
       "      <td>NaN</td>\n",
       "      <td>NaN</td>\n",
       "      <td>NaN</td>\n",
       "      <td>NaN</td>\n",
       "      <td>0.0</td>\n",
       "      <td>NaN</td>\n",
       "      <td>NaN</td>\n",
       "      <td>CO[C@@H]1[C@@H](OC)[C@H](C)[C@@](O)(CC(=O)[O-]...</td>\n",
       "    </tr>\n",
       "    <tr>\n",
       "      <th>3</th>\n",
       "      <td>3</td>\n",
       "      <td>3</td>\n",
       "      <td>NCGC00013058-02</td>\n",
       "      <td>CNYGFPPAGUCRIC-UHFFFAOYSA-L</td>\n",
       "      <td>NCGC00013058-02</td>\n",
       "      <td>3</td>\n",
       "      <td>training</td>\n",
       "      <td>NaN</td>\n",
       "      <td>NaN</td>\n",
       "      <td>NaN</td>\n",
       "      <td>...</td>\n",
       "      <td>NaN</td>\n",
       "      <td>NaN</td>\n",
       "      <td>NaN</td>\n",
       "      <td>NaN</td>\n",
       "      <td>NaN</td>\n",
       "      <td>NaN</td>\n",
       "      <td>1.0</td>\n",
       "      <td>NaN</td>\n",
       "      <td>NaN</td>\n",
       "      <td>CN(C)c1ccc(C(=C2C=CC(=[N+](C)C)C=C2)c2ccccc2)c...</td>\n",
       "    </tr>\n",
       "    <tr>\n",
       "      <th>4</th>\n",
       "      <td>4</td>\n",
       "      <td>4</td>\n",
       "      <td>NCGC00167516-01</td>\n",
       "      <td>LYCYLGFSIXIXAB-NUZRHMIVSA-N</td>\n",
       "      <td>NCGC00167516-01</td>\n",
       "      <td>4</td>\n",
       "      <td>training</td>\n",
       "      <td>NaN</td>\n",
       "      <td>NaN</td>\n",
       "      <td>0.0</td>\n",
       "      <td>...</td>\n",
       "      <td>NaN</td>\n",
       "      <td>NaN</td>\n",
       "      <td>NaN</td>\n",
       "      <td>NaN</td>\n",
       "      <td>NaN</td>\n",
       "      <td>NaN</td>\n",
       "      <td>NaN</td>\n",
       "      <td>NaN</td>\n",
       "      <td>NaN</td>\n",
       "      <td>CC(=O)O.CCNC(=O)[C@@H]1CCCN1C(=O)[C@H](CCCNC(=...</td>\n",
       "    </tr>\n",
       "  </tbody>\n",
       "</table>\n",
       "<p>5 rows × 21 columns</p>\n",
       "</div>"
      ],
      "text/plain": [
       "   Unnamed: 0  index               ID                     inchikey  \\\n",
       "0           0      0  NCGC00178831-03  PEJLNXHANOHNSU-UHFFFAOYSA-N   \n",
       "1           1      1  NCGC00166114-03  SEACYXSIPDVVMV-UHFFFAOYSA-L   \n",
       "2           2      2  NCGC00263563-01  WQGJEAMPBSZCIF-VEKNOCPUSA-N   \n",
       "3           3      3  NCGC00013058-02  CNYGFPPAGUCRIC-UHFFFAOYSA-L   \n",
       "4           4      4  NCGC00167516-01  LYCYLGFSIXIXAB-NUZRHMIVSA-N   \n",
       "\n",
       "          sdftitle  order       set  CVfold  NR.AhR  NR.AR  ...  NR.Aromatase  \\\n",
       "0  NCGC00178831-03      0  training     4.0     NaN    NaN  ...           NaN   \n",
       "1  NCGC00166114-03      1  training     NaN     NaN    NaN  ...           NaN   \n",
       "2  NCGC00263563-01      2  training     4.0     NaN    NaN  ...           NaN   \n",
       "3  NCGC00013058-02      3  training     NaN     NaN    NaN  ...           NaN   \n",
       "4  NCGC00167516-01      4  training     NaN     NaN    0.0  ...           NaN   \n",
       "\n",
       "   NR.ER  NR.ER.LBD  NR.PPAR.gamma  SR.ARE  SR.ATAD5  SR.HSE  SR.MMP  SR.p53  \\\n",
       "0    NaN        NaN            NaN     NaN       NaN     0.0     NaN     NaN   \n",
       "1    NaN        NaN            NaN     NaN       NaN     0.0     NaN     NaN   \n",
       "2    NaN        NaN            NaN     NaN       NaN     0.0     NaN     NaN   \n",
       "3    NaN        NaN            NaN     NaN       NaN     1.0     NaN     NaN   \n",
       "4    NaN        NaN            NaN     NaN       NaN     NaN     NaN     NaN   \n",
       "\n",
       "                                              smiles  \n",
       "0  C[n+]1c2cc(N)ccc2cc2ccc(N)cc21.Nc1ccc2cc3ccc(N...  \n",
       "1  O=C([O-])c1ccccc1-c1c2cc(Br)c(=O)c(Br)c-2oc2c(...  \n",
       "2  CO[C@@H]1[C@@H](OC)[C@H](C)[C@@](O)(CC(=O)[O-]...  \n",
       "3  CN(C)c1ccc(C(=C2C=CC(=[N+](C)C)C=C2)c2ccccc2)c...  \n",
       "4  CC(=O)O.CCNC(=O)[C@@H]1CCCN1C(=O)[C@H](CCCNC(=...  \n",
       "\n",
       "[5 rows x 21 columns]"
      ]
     },
     "execution_count": 12,
     "metadata": {},
     "output_type": "execute_result"
    }
   ],
   "source": [
    "# See top 5 rows\n",
    "tox_df.head()"
   ]
  },
  {
   "cell_type": "code",
   "execution_count": 13,
   "metadata": {},
   "outputs": [
    {
     "name": "stdout",
     "output_type": "stream",
     "text": [
      "(11759, 21)\n"
     ]
    }
   ],
   "source": [
    "# Get num of rows and columns\n",
    "print(tox_df.shape)"
   ]
  },
  {
   "cell_type": "code",
   "execution_count": 14,
   "metadata": {},
   "outputs": [
    {
     "name": "stdout",
     "output_type": "stream",
     "text": [
      "0        NaN\n",
      "1        NaN\n",
      "2        NaN\n",
      "3        NaN\n",
      "4        NaN\n",
      "        ... \n",
      "11754    0.0\n",
      "11755    0.0\n",
      "11756    0.0\n",
      "11757    1.0\n",
      "11758    0.0\n",
      "Name: NR.AhR, Length: 11759, dtype: float64\n"
     ]
    }
   ],
   "source": [
    "# Test dataset\n",
    "print(tox_df[\"NR.AhR\"])"
   ]
  },
  {
   "cell_type": "code",
   "execution_count": null,
   "metadata": {},
   "outputs": [
    {
     "name": "stdout",
     "output_type": "stream",
     "text": [
      "       NR.AhR  NR.AR  NR.AR.LBD  NR.Aromatase  NR.ER  NR.ER.LBD  \\\n",
      "0         NaN    NaN        NaN           NaN    NaN        NaN   \n",
      "1         NaN    NaN        NaN           NaN    NaN        NaN   \n",
      "2         NaN    NaN        NaN           NaN    NaN        NaN   \n",
      "3         NaN    NaN        NaN           NaN    NaN        NaN   \n",
      "4         NaN    0.0        NaN           NaN    NaN        NaN   \n",
      "...       ...    ...        ...           ...    ...        ...   \n",
      "11754     0.0    0.0        0.0           0.0    0.0        0.0   \n",
      "11755     0.0    0.0        0.0           0.0    0.0        0.0   \n",
      "11756     0.0    0.0        0.0           0.0    0.0        0.0   \n",
      "11757     1.0    0.0        0.0           0.0    0.0        0.0   \n",
      "11758     0.0    0.0        0.0           0.0    0.0        0.0   \n",
      "\n",
      "       NR.PPAR.gamma  SR.ARE  SR.ATAD5  SR.HSE  SR.MMP  SR.p53  \n",
      "0                NaN     NaN       NaN     0.0     NaN     NaN  \n",
      "1                NaN     NaN       NaN     0.0     NaN     NaN  \n",
      "2                NaN     NaN       NaN     0.0     NaN     NaN  \n",
      "3                NaN     NaN       NaN     1.0     NaN     NaN  \n",
      "4                NaN     NaN       NaN     NaN     NaN     NaN  \n",
      "...              ...     ...       ...     ...     ...     ...  \n",
      "11754            0.0     0.0       0.0     0.0     0.0     0.0  \n",
      "11755            0.0     1.0       0.0     0.0     0.0     0.0  \n",
      "11756            0.0     0.0       0.0     0.0     0.0     0.0  \n",
      "11757            0.0     0.0       0.0     0.0     0.0     0.0  \n",
      "11758            0.0     0.0       0.0     0.0     0.0     1.0  \n",
      "\n",
      "[11759 rows x 12 columns]\n"
     ]
    }
   ],
   "source": [
    "# Example: Load your dataset into a pandas DataFrame\n",
    "# tox_df = pd.read_csv('tox21_data.csv')\n",
    "\n",
    "# Define the columns related to toxicological concern\n",
    "toxic_columns = [\n",
    "    'NR.AhR',         # Aryl hydrocarbon receptor\n",
    "    'NR.AR',          # Androgen receptor\n",
    "    'NR.AR.LBD',      # Androgen receptor Ligand Binding Domain\n",
    "    'NR.Aromatase',   # Aromatase\n",
    "    'NR.ER',          # Estrogen receptor\n",
    "    'NR.ER.LBD',      # Estrogen receptor Ligand Binding Domain\n",
    "    'NR.PPAR.gamma',  # Peroxisome proliferator-activated receptor gamma\n",
    "    'SR.ARE',         # Antioxidant response element\n",
    "    'SR.ATAD5',       # DNA damage response (possibly unsafe if active)\n",
    "    'SR.HSE',         # Heat shock element\n",
    "    'SR.MMP',         # Matrix metalloproteinases\n",
    "    'SR.p53'          # Tumor suppressor p53 (possibly unsafe if active)\n",
    "]\n",
    "     \n",
    "print(tox_df[toxic_columns])\n"
   ]
  },
  {
   "cell_type": "code",
   "execution_count": 38,
   "metadata": {},
   "outputs": [
    {
     "name": "stdout",
     "output_type": "stream",
     "text": [
      "{'NR.AhR': 7215, 'NR.AR': 8978, 'NR.AR.LBD': 8292, 'NR.Aromatase': 6862, 'NR.ER': 6757, 'NR.ER.LBD': 8303, 'NR.PPAR.gamma': 7958, 'SR.ARE': 6068, 'SR.ATAD5': 8749, 'SR.HSE': 7719, 'SR.MMP': 6175, 'SR.p53': 8093}\n"
     ]
    }
   ],
   "source": [
    "# Count the number of empty values \n",
    "\n",
    "empty_dict = {}\n",
    "empty_counter = 0\n",
    "\n",
    "for i in toxic_columns:\n",
    "    empty_counter = 0\n",
    "    for j in tox_df[i]:\n",
    "        if not j:\n",
    "            empty_counter+=1\n",
    "    empty_dict[i] = empty_counter\n",
    "\n",
    "print(empty_dict)"
   ]
  },
  {
   "cell_type": "code",
   "execution_count": null,
   "metadata": {},
   "outputs": [
    {
     "name": "stdout",
     "output_type": "stream",
     "text": [
      "number of chemical that is safe: 2542\n",
      "number of chemical that is not safe:  373\n",
      "Total number of chemical:  2169\n"
     ]
    },
    {
     "name": "stderr",
     "output_type": "stream",
     "text": [
      "C:\\Users\\willi\\AppData\\Local\\Temp\\ipykernel_16484\\4263060832.py:12: SettingWithCopyWarning: \n",
      "A value is trying to be set on a copy of a slice from a DataFrame.\n",
      "Try using .loc[row_indexer,col_indexer] = value instead\n",
      "\n",
      "See the caveats in the documentation: https://pandas.pydata.org/pandas-docs/stable/user_guide/indexing.html#returning-a-view-versus-a-copy\n",
      "  df_cleaned['safe_for_body'] = df_cleaned[toxic_columns].apply(lambda row: 0 if row.any() else 1, axis=1)\n"
     ]
    }
   ],
   "source": [
    "\n",
    "# Define a threshold for safety\n",
    "# In this example, if any of the toxic columns is activated (i.e., has a value of 1),\n",
    "# we classify the chemical as unsafe (0). Otherwise, it's safe (1).\n",
    "\n",
    "# Create a new column 'safe_for_body' where:\n",
    "# - If any of the toxicity-related assays are positive (1), it's unsafe (0).\n",
    "# - If all are negative (0), it's safe (1).\n",
    "\n",
    "# tox_df['safe_for_body'] = tox_df[toxic_columns].apply(lambda row: 0 if row.any() else 1, axis=1)\n",
    "\n",
    "df_cleaned = tox_df.dropna(subset=toxic_columns)\n",
    "df_cleaned['safe_for_body'] = df_cleaned[toxic_columns].apply(lambda row: 0 if row.any() else 1, axis=1)\n",
    "\n",
    "# Print the first few rows to check\n",
    "safe_count = 0\n",
    "\n",
    "for i in df_cleaned[\"safe_for_body\"]:\n",
    "    if i == 1:\n",
    "        safe_count+=1\n",
    "\n",
    "print(\"number of chemical that is safe:\", len(df_cleaned[\"safe_for_body\"]))\n",
    "print(\"number of chemical that is not safe: \", len(df_cleaned[\"safe_for_body\"]) - safe_count)\n",
    "print(\"Total number of chemical: \", safe_count)"
   ]
  },
  {
   "cell_type": "code",
   "execution_count": null,
   "metadata": {},
   "outputs": [],
   "source": []
  },
  {
   "cell_type": "code",
   "execution_count": 15,
   "metadata": {},
   "outputs": [],
   "source": [
    "# Add new features\n",
    "# Molecular weight\n",
    "# Count the occurrences of each amino acid\n",
    "# Count the total number of atoms, including carbon (C), hydrogen (H), oxygen (O), nitrogen (N), sulfur (S), etc.\n",
    "# Count the number of aromatic rings\n",
    "# logP\n",
    "# ph, charge?\n",
    "# number of hydrogen, covalent bond, diff bonds\n"
   ]
  },
  {
   "cell_type": "code",
   "execution_count": 16,
   "metadata": {},
   "outputs": [],
   "source": [
    "# How to assess toxicity??\n",
    "\n",
    "# NR.AhR: Can indicate systemic toxicity and cancer risk.\n",
    "# NR.AR and NR.AR.LBD: Related to endocrine disruption and reproductive toxicity.\n",
    "# NR.Aromatase: Can indicate hormonal imbalances and reproductive effects.\n",
    "# NR.ER and NR.ER.LBD: Associated with endocrine disruption and risk of hormone-related cancers.\n",
    "# NR.PPAR.gamma: Involved in metabolic toxicity.\n",
    "# SR.ARE: Marker for oxidative stress and organ-specific toxicity.\n",
    "# SR.ATAD5: Indicates DNA damage and potential carcinogenicity.\n",
    "# SR.HSE: Associated with cellular stress and cytotoxicity.\n",
    "# SR.MMP: Related to tissue damage and organ dysfunction.\n",
    "# SR.p53: Strong indicator of genotoxicity and cancer risk."
   ]
  },
  {
   "cell_type": "code",
   "execution_count": 17,
   "metadata": {},
   "outputs": [],
   "source": [
    "# Preprocess the dataset"
   ]
  },
  {
   "cell_type": "code",
   "execution_count": 18,
   "metadata": {},
   "outputs": [],
   "source": [
    "# Split the dataset "
   ]
  },
  {
   "cell_type": "code",
   "execution_count": 19,
   "metadata": {},
   "outputs": [],
   "source": [
    "# Build the model"
   ]
  },
  {
   "cell_type": "code",
   "execution_count": 20,
   "metadata": {},
   "outputs": [],
   "source": [
    "# Test the accuracy of the set"
   ]
  },
  {
   "cell_type": "code",
   "execution_count": null,
   "metadata": {},
   "outputs": [],
   "source": []
  }
 ],
 "metadata": {
  "kernelspec": {
   "display_name": "base",
   "language": "python",
   "name": "python3"
  },
  "language_info": {
   "codemirror_mode": {
    "name": "ipython",
    "version": 3
   },
   "file_extension": ".py",
   "mimetype": "text/x-python",
   "name": "python",
   "nbconvert_exporter": "python",
   "pygments_lexer": "ipython3",
   "version": "3.10.9"
  }
 },
 "nbformat": 4,
 "nbformat_minor": 2
}
