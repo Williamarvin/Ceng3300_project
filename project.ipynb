{
 "cells": [
  {
   "cell_type": "code",
   "execution_count": 51,
   "metadata": {},
   "outputs": [],
   "source": [
    "# Import all the modules\n",
    "import pandas as pd\n",
    "from rdkit.Chem import Descriptors\n",
    "from rdkit import Chem\n",
    "from sklearn.model_selection import train_test_split\n",
    "from matplotlib import pyplot as plt\n",
    "import numpy as np\n",
    "from sklearn.linear_model import LogisticRegression\n",
    "from sklearn.metrics import accuracy_score"
   ]
  },
  {
   "cell_type": "code",
   "execution_count": 52,
   "metadata": {},
   "outputs": [],
   "source": [
    "# Load the dataset\n",
    "tox_df = pd.DataFrame()\n",
    "tox_df = pd.read_csv(\"tox21_with_smiles.csv\")"
   ]
  },
  {
   "cell_type": "code",
   "execution_count": 53,
   "metadata": {},
   "outputs": [
    {
     "data": {
      "text/html": [
       "<div>\n",
       "<style scoped>\n",
       "    .dataframe tbody tr th:only-of-type {\n",
       "        vertical-align: middle;\n",
       "    }\n",
       "\n",
       "    .dataframe tbody tr th {\n",
       "        vertical-align: top;\n",
       "    }\n",
       "\n",
       "    .dataframe thead th {\n",
       "        text-align: right;\n",
       "    }\n",
       "</style>\n",
       "<table border=\"1\" class=\"dataframe\">\n",
       "  <thead>\n",
       "    <tr style=\"text-align: right;\">\n",
       "      <th></th>\n",
       "      <th>Unnamed: 0</th>\n",
       "      <th>index</th>\n",
       "      <th>ID</th>\n",
       "      <th>inchikey</th>\n",
       "      <th>sdftitle</th>\n",
       "      <th>order</th>\n",
       "      <th>set</th>\n",
       "      <th>CVfold</th>\n",
       "      <th>NR.AhR</th>\n",
       "      <th>NR.AR</th>\n",
       "      <th>...</th>\n",
       "      <th>NR.Aromatase</th>\n",
       "      <th>NR.ER</th>\n",
       "      <th>NR.ER.LBD</th>\n",
       "      <th>NR.PPAR.gamma</th>\n",
       "      <th>SR.ARE</th>\n",
       "      <th>SR.ATAD5</th>\n",
       "      <th>SR.HSE</th>\n",
       "      <th>SR.MMP</th>\n",
       "      <th>SR.p53</th>\n",
       "      <th>smiles</th>\n",
       "    </tr>\n",
       "  </thead>\n",
       "  <tbody>\n",
       "    <tr>\n",
       "      <th>0</th>\n",
       "      <td>0</td>\n",
       "      <td>0</td>\n",
       "      <td>NCGC00178831-03</td>\n",
       "      <td>PEJLNXHANOHNSU-UHFFFAOYSA-N</td>\n",
       "      <td>NCGC00178831-03</td>\n",
       "      <td>0</td>\n",
       "      <td>training</td>\n",
       "      <td>4.0</td>\n",
       "      <td>NaN</td>\n",
       "      <td>NaN</td>\n",
       "      <td>...</td>\n",
       "      <td>NaN</td>\n",
       "      <td>NaN</td>\n",
       "      <td>NaN</td>\n",
       "      <td>NaN</td>\n",
       "      <td>NaN</td>\n",
       "      <td>NaN</td>\n",
       "      <td>0.0</td>\n",
       "      <td>NaN</td>\n",
       "      <td>NaN</td>\n",
       "      <td>C[n+]1c2cc(N)ccc2cc2ccc(N)cc21.Nc1ccc2cc3ccc(N...</td>\n",
       "    </tr>\n",
       "    <tr>\n",
       "      <th>1</th>\n",
       "      <td>1</td>\n",
       "      <td>1</td>\n",
       "      <td>NCGC00166114-03</td>\n",
       "      <td>SEACYXSIPDVVMV-UHFFFAOYSA-L</td>\n",
       "      <td>NCGC00166114-03</td>\n",
       "      <td>1</td>\n",
       "      <td>training</td>\n",
       "      <td>NaN</td>\n",
       "      <td>NaN</td>\n",
       "      <td>NaN</td>\n",
       "      <td>...</td>\n",
       "      <td>NaN</td>\n",
       "      <td>NaN</td>\n",
       "      <td>NaN</td>\n",
       "      <td>NaN</td>\n",
       "      <td>NaN</td>\n",
       "      <td>NaN</td>\n",
       "      <td>0.0</td>\n",
       "      <td>NaN</td>\n",
       "      <td>NaN</td>\n",
       "      <td>O=C([O-])c1ccccc1-c1c2cc(Br)c(=O)c(Br)c-2oc2c(...</td>\n",
       "    </tr>\n",
       "    <tr>\n",
       "      <th>2</th>\n",
       "      <td>2</td>\n",
       "      <td>2</td>\n",
       "      <td>NCGC00263563-01</td>\n",
       "      <td>WQGJEAMPBSZCIF-VEKNOCPUSA-N</td>\n",
       "      <td>NCGC00263563-01</td>\n",
       "      <td>2</td>\n",
       "      <td>training</td>\n",
       "      <td>4.0</td>\n",
       "      <td>NaN</td>\n",
       "      <td>NaN</td>\n",
       "      <td>...</td>\n",
       "      <td>NaN</td>\n",
       "      <td>NaN</td>\n",
       "      <td>NaN</td>\n",
       "      <td>NaN</td>\n",
       "      <td>NaN</td>\n",
       "      <td>NaN</td>\n",
       "      <td>0.0</td>\n",
       "      <td>NaN</td>\n",
       "      <td>NaN</td>\n",
       "      <td>CO[C@@H]1[C@@H](OC)[C@H](C)[C@@](O)(CC(=O)[O-]...</td>\n",
       "    </tr>\n",
       "    <tr>\n",
       "      <th>3</th>\n",
       "      <td>3</td>\n",
       "      <td>3</td>\n",
       "      <td>NCGC00013058-02</td>\n",
       "      <td>CNYGFPPAGUCRIC-UHFFFAOYSA-L</td>\n",
       "      <td>NCGC00013058-02</td>\n",
       "      <td>3</td>\n",
       "      <td>training</td>\n",
       "      <td>NaN</td>\n",
       "      <td>NaN</td>\n",
       "      <td>NaN</td>\n",
       "      <td>...</td>\n",
       "      <td>NaN</td>\n",
       "      <td>NaN</td>\n",
       "      <td>NaN</td>\n",
       "      <td>NaN</td>\n",
       "      <td>NaN</td>\n",
       "      <td>NaN</td>\n",
       "      <td>1.0</td>\n",
       "      <td>NaN</td>\n",
       "      <td>NaN</td>\n",
       "      <td>CN(C)c1ccc(C(=C2C=CC(=[N+](C)C)C=C2)c2ccccc2)c...</td>\n",
       "    </tr>\n",
       "    <tr>\n",
       "      <th>4</th>\n",
       "      <td>4</td>\n",
       "      <td>4</td>\n",
       "      <td>NCGC00167516-01</td>\n",
       "      <td>LYCYLGFSIXIXAB-NUZRHMIVSA-N</td>\n",
       "      <td>NCGC00167516-01</td>\n",
       "      <td>4</td>\n",
       "      <td>training</td>\n",
       "      <td>NaN</td>\n",
       "      <td>NaN</td>\n",
       "      <td>0.0</td>\n",
       "      <td>...</td>\n",
       "      <td>NaN</td>\n",
       "      <td>NaN</td>\n",
       "      <td>NaN</td>\n",
       "      <td>NaN</td>\n",
       "      <td>NaN</td>\n",
       "      <td>NaN</td>\n",
       "      <td>NaN</td>\n",
       "      <td>NaN</td>\n",
       "      <td>NaN</td>\n",
       "      <td>CC(=O)O.CCNC(=O)[C@@H]1CCCN1C(=O)[C@H](CCCNC(=...</td>\n",
       "    </tr>\n",
       "  </tbody>\n",
       "</table>\n",
       "<p>5 rows × 21 columns</p>\n",
       "</div>"
      ],
      "text/plain": [
       "   Unnamed: 0  index               ID                     inchikey  \\\n",
       "0           0      0  NCGC00178831-03  PEJLNXHANOHNSU-UHFFFAOYSA-N   \n",
       "1           1      1  NCGC00166114-03  SEACYXSIPDVVMV-UHFFFAOYSA-L   \n",
       "2           2      2  NCGC00263563-01  WQGJEAMPBSZCIF-VEKNOCPUSA-N   \n",
       "3           3      3  NCGC00013058-02  CNYGFPPAGUCRIC-UHFFFAOYSA-L   \n",
       "4           4      4  NCGC00167516-01  LYCYLGFSIXIXAB-NUZRHMIVSA-N   \n",
       "\n",
       "          sdftitle  order       set  CVfold  NR.AhR  NR.AR  ...  NR.Aromatase  \\\n",
       "0  NCGC00178831-03      0  training     4.0     NaN    NaN  ...           NaN   \n",
       "1  NCGC00166114-03      1  training     NaN     NaN    NaN  ...           NaN   \n",
       "2  NCGC00263563-01      2  training     4.0     NaN    NaN  ...           NaN   \n",
       "3  NCGC00013058-02      3  training     NaN     NaN    NaN  ...           NaN   \n",
       "4  NCGC00167516-01      4  training     NaN     NaN    0.0  ...           NaN   \n",
       "\n",
       "   NR.ER  NR.ER.LBD  NR.PPAR.gamma  SR.ARE  SR.ATAD5  SR.HSE  SR.MMP  SR.p53  \\\n",
       "0    NaN        NaN            NaN     NaN       NaN     0.0     NaN     NaN   \n",
       "1    NaN        NaN            NaN     NaN       NaN     0.0     NaN     NaN   \n",
       "2    NaN        NaN            NaN     NaN       NaN     0.0     NaN     NaN   \n",
       "3    NaN        NaN            NaN     NaN       NaN     1.0     NaN     NaN   \n",
       "4    NaN        NaN            NaN     NaN       NaN     NaN     NaN     NaN   \n",
       "\n",
       "                                              smiles  \n",
       "0  C[n+]1c2cc(N)ccc2cc2ccc(N)cc21.Nc1ccc2cc3ccc(N...  \n",
       "1  O=C([O-])c1ccccc1-c1c2cc(Br)c(=O)c(Br)c-2oc2c(...  \n",
       "2  CO[C@@H]1[C@@H](OC)[C@H](C)[C@@](O)(CC(=O)[O-]...  \n",
       "3  CN(C)c1ccc(C(=C2C=CC(=[N+](C)C)C=C2)c2ccccc2)c...  \n",
       "4  CC(=O)O.CCNC(=O)[C@@H]1CCCN1C(=O)[C@H](CCCNC(=...  \n",
       "\n",
       "[5 rows x 21 columns]"
      ]
     },
     "execution_count": 53,
     "metadata": {},
     "output_type": "execute_result"
    }
   ],
   "source": [
    "# See top 5 rows\n",
    "tox_df.head()"
   ]
  },
  {
   "cell_type": "code",
   "execution_count": 54,
   "metadata": {},
   "outputs": [
    {
     "name": "stdout",
     "output_type": "stream",
     "text": [
      "(11759, 21)\n"
     ]
    }
   ],
   "source": [
    "# Get num of rows and columns\n",
    "print(tox_df.shape)"
   ]
  },
  {
   "cell_type": "code",
   "execution_count": 55,
   "metadata": {},
   "outputs": [
    {
     "name": "stdout",
     "output_type": "stream",
     "text": [
      "0        NaN\n",
      "1        NaN\n",
      "2        NaN\n",
      "3        NaN\n",
      "4        NaN\n",
      "        ... \n",
      "11754    0.0\n",
      "11755    0.0\n",
      "11756    0.0\n",
      "11757    1.0\n",
      "11758    0.0\n",
      "Name: NR.AhR, Length: 11759, dtype: float64\n"
     ]
    }
   ],
   "source": [
    "# Test dataset\n",
    "print(tox_df[\"NR.AhR\"])"
   ]
  },
  {
   "cell_type": "code",
   "execution_count": 56,
   "metadata": {},
   "outputs": [],
   "source": [
    "# How to assess toxicity??\n",
    "\n",
    "# NR.AhR: Can indicate systemic toxicity and cancer risk.\n",
    "# NR.AR and NR.AR.LBD: Related to endocrine disruption and reproductive toxicity.\n",
    "# NR.Aromatase: Can indicate hormonal imbalances and reproductive effects.\n",
    "# NR.ER and NR.ER.LBD: Associated with endocrine disruption and risk of hormone-related cancers.\n",
    "# NR.PPAR.gamma: Involved in metabolic toxicity.\n",
    "# SR.ARE: Marker for oxidative stress and organ-specific toxicity.\n",
    "# SR.ATAD5: Indicates DNA damage and potential carcinogenicity.\n",
    "# SR.HSE: Associated with cellular stress and cytotoxicity.\n",
    "# SR.MMP: Related to tissue damage and organ dysfunction.\n",
    "# SR.p53: Strong indicator of genotoxicity and cancer risk.\n",
    "\n"
   ]
  },
  {
   "cell_type": "code",
   "execution_count": 57,
   "metadata": {},
   "outputs": [
    {
     "name": "stdout",
     "output_type": "stream",
     "text": [
      "       NR.AhR  NR.AR  NR.AR.LBD  NR.Aromatase  NR.ER  NR.ER.LBD  \\\n",
      "0         NaN    NaN        NaN           NaN    NaN        NaN   \n",
      "1         NaN    NaN        NaN           NaN    NaN        NaN   \n",
      "2         NaN    NaN        NaN           NaN    NaN        NaN   \n",
      "3         NaN    NaN        NaN           NaN    NaN        NaN   \n",
      "4         NaN    0.0        NaN           NaN    NaN        NaN   \n",
      "...       ...    ...        ...           ...    ...        ...   \n",
      "11754     0.0    0.0        0.0           0.0    0.0        0.0   \n",
      "11755     0.0    0.0        0.0           0.0    0.0        0.0   \n",
      "11756     0.0    0.0        0.0           0.0    0.0        0.0   \n",
      "11757     1.0    0.0        0.0           0.0    0.0        0.0   \n",
      "11758     0.0    0.0        0.0           0.0    0.0        0.0   \n",
      "\n",
      "       NR.PPAR.gamma  SR.ARE  SR.ATAD5  SR.HSE  SR.MMP  SR.p53  \n",
      "0                NaN     NaN       NaN     0.0     NaN     NaN  \n",
      "1                NaN     NaN       NaN     0.0     NaN     NaN  \n",
      "2                NaN     NaN       NaN     0.0     NaN     NaN  \n",
      "3                NaN     NaN       NaN     1.0     NaN     NaN  \n",
      "4                NaN     NaN       NaN     NaN     NaN     NaN  \n",
      "...              ...     ...       ...     ...     ...     ...  \n",
      "11754            0.0     0.0       0.0     0.0     0.0     0.0  \n",
      "11755            0.0     1.0       0.0     0.0     0.0     0.0  \n",
      "11756            0.0     0.0       0.0     0.0     0.0     0.0  \n",
      "11757            0.0     0.0       0.0     0.0     0.0     0.0  \n",
      "11758            0.0     0.0       0.0     0.0     0.0     1.0  \n",
      "\n",
      "[11759 rows x 12 columns]\n"
     ]
    }
   ],
   "source": [
    "# Example: Load your dataset into a pandas DataFrame\n",
    "# tox_df = pd.read_csv('tox21_data.csv')\n",
    "\n",
    "# Define the columns related to toxicological concern\n",
    "toxic_columns = [\n",
    "    'NR.AhR',         # Aryl hydrocarbon receptor\n",
    "    'NR.AR',          # Androgen receptor\n",
    "    'NR.AR.LBD',      # Androgen receptor Ligand Binding Domain\n",
    "    'NR.Aromatase',   # Aromatase\n",
    "    'NR.ER',          # Estrogen receptor\n",
    "    'NR.ER.LBD',      # Estrogen receptor Ligand Binding Domain\n",
    "    'NR.PPAR.gamma',  # Peroxisome proliferator-activated receptor gamma\n",
    "    'SR.ARE',         # Antioxidant response element\n",
    "    'SR.ATAD5',       # DNA damage response (possibly unsafe if active)\n",
    "    'SR.HSE',         # Heat shock element\n",
    "    'SR.MMP',         # Matrix metalloproteinases\n",
    "    'SR.p53'          # Tumor suppressor p53 (possibly unsafe if active)\n",
    "]\n",
    "     \n",
    "print(tox_df[toxic_columns])\n"
   ]
  },
  {
   "cell_type": "code",
   "execution_count": 58,
   "metadata": {},
   "outputs": [
    {
     "name": "stdout",
     "output_type": "stream",
     "text": [
      "{'NR.AhR': 7215, 'NR.AR': 8978, 'NR.AR.LBD': 8292, 'NR.Aromatase': 6862, 'NR.ER': 6757, 'NR.ER.LBD': 8303, 'NR.PPAR.gamma': 7958, 'SR.ARE': 6068, 'SR.ATAD5': 8749, 'SR.HSE': 7719, 'SR.MMP': 6175, 'SR.p53': 8093}\n"
     ]
    }
   ],
   "source": [
    "# Count the number of empty values \n",
    "\n",
    "empty_dict = {}\n",
    "empty_counter = 0\n",
    "\n",
    "for i in toxic_columns:\n",
    "    empty_counter = 0\n",
    "    for j in tox_df[i]:\n",
    "        if not j:\n",
    "            empty_counter+=1\n",
    "    empty_dict[i] = empty_counter\n",
    "\n",
    "print(empty_dict)"
   ]
  },
  {
   "cell_type": "code",
   "execution_count": 75,
   "metadata": {},
   "outputs": [
    {
     "name": "stdout",
     "output_type": "stream",
     "text": [
      "number of chemical that is safe: 2542\n",
      "number of chemical that is not safe:  373\n",
      "Total number of chemical:  2169\n"
     ]
    },
    {
     "name": "stderr",
     "output_type": "stream",
     "text": [
      "/var/folders/3m/060_bbgs7pg8jq6cyzvjbmv40000gn/T/ipykernel_29759/2270776002.py:12: SettingWithCopyWarning: \n",
      "A value is trying to be set on a copy of a slice from a DataFrame.\n",
      "Try using .loc[row_indexer,col_indexer] = value instead\n",
      "\n",
      "See the caveats in the documentation: https://pandas.pydata.org/pandas-docs/stable/user_guide/indexing.html#returning-a-view-versus-a-copy\n",
      "  tox_inpute['safe_for_body'] = tox_inpute[toxic_columns].apply(lambda row: 0 if row.any() else 1, axis=1)\n"
     ]
    }
   ],
   "source": [
    "\n",
    "# Define a threshold for safety\n",
    "# In this example, if any of the toxic columns is activated (i.e., has a value of 1),\n",
    "# we classify the chemical as unsafe (0). Otherwise, it's safe (1).\n",
    "\n",
    "# Create a new column 'safe_for_body' where:\n",
    "# - If any of the toxicity-related assays are positive (1), it's unsafe (0).\n",
    "# - If all are negative (0), it's safe (1).\n",
    "\n",
    "# tox_df['safe_for_body'] = tox_df[toxic_columns].apply(lambda row: 0 if row.any() else 1, axis=1)\n",
    "\n",
    "tox_inpute = tox_df.dropna(subset=toxic_columns)\n",
    "tox_inpute['safe_for_body'] = tox_inpute[toxic_columns].apply(lambda row: 0 if row.any() else 1, axis=1)\n",
    "\n",
    "# Print the first few rows to check\n",
    "safe_count = 0\n",
    "\n",
    "for i in tox_inpute[\"safe_for_body\"]:\n",
    "    if i == 1:\n",
    "        safe_count+=1\n",
    "\n",
    "print(\"number of chemical that is safe:\", len(tox_inpute[\"safe_for_body\"]))\n",
    "print(\"number of chemical that is not safe: \", len(tox_inpute[\"safe_for_body\"]) - safe_count)\n",
    "print(\"Total number of chemical: \", safe_count)"
   ]
  },
  {
   "cell_type": "code",
   "execution_count": 76,
   "metadata": {},
   "outputs": [],
   "source": [
    "# Add new features\n",
    "# Molecular weight\n",
    "# Count the occurrences of each amino acid\n",
    "# Count the total number of atoms, including carbon (C), hydrogen (H), oxygen (O), nitrogen (N), sulfur (S), etc.\n",
    "# Count the number of aromatic rings\n",
    "# logP\n",
    "# ph, charge?\n",
    "# number of hydrogen, covalent bond, diff bonds\n",
    "\n",
    "def desc_calc(mol):\n",
    "    mw = Descriptors.MolWt(mol)\n",
    "    nn = 0\n",
    "    \n",
    "    for atom in mol.GetAtoms():\n",
    "        if atom.GetAtomicNum() == 7:\n",
    "            nn+=1\n",
    "            \n",
    "    nring = Descriptors.RingCount(mol)\n",
    "    logP = Descriptors.MolLogP(mol)\n",
    "    \n",
    "    desc = {\n",
    "    \"mw\":mw,\n",
    "    \"nn\":nn,\n",
    "    \"nring\":nring,\n",
    "    \"logP\":logP,\n",
    "    }\n",
    "    \n",
    "    return desc\n",
    "\n"
   ]
  },
  {
   "cell_type": "code",
   "execution_count": 77,
   "metadata": {},
   "outputs": [
    {
     "name": "stderr",
     "output_type": "stream",
     "text": [
      "/var/folders/3m/060_bbgs7pg8jq6cyzvjbmv40000gn/T/ipykernel_29759/527937087.py:17: SettingWithCopyWarning: \n",
      "A value is trying to be set on a copy of a slice from a DataFrame.\n",
      "Try using .loc[row_indexer,col_indexer] = value instead\n",
      "\n",
      "See the caveats in the documentation: https://pandas.pydata.org/pandas-docs/stable/user_guide/indexing.html#returning-a-view-versus-a-copy\n",
      "  tox_inpute[\"mw\"] = mw_list\n",
      "/var/folders/3m/060_bbgs7pg8jq6cyzvjbmv40000gn/T/ipykernel_29759/527937087.py:18: SettingWithCopyWarning: \n",
      "A value is trying to be set on a copy of a slice from a DataFrame.\n",
      "Try using .loc[row_indexer,col_indexer] = value instead\n",
      "\n",
      "See the caveats in the documentation: https://pandas.pydata.org/pandas-docs/stable/user_guide/indexing.html#returning-a-view-versus-a-copy\n",
      "  tox_inpute[\"nn\"] = nn_list\n",
      "/var/folders/3m/060_bbgs7pg8jq6cyzvjbmv40000gn/T/ipykernel_29759/527937087.py:19: SettingWithCopyWarning: \n",
      "A value is trying to be set on a copy of a slice from a DataFrame.\n",
      "Try using .loc[row_indexer,col_indexer] = value instead\n",
      "\n",
      "See the caveats in the documentation: https://pandas.pydata.org/pandas-docs/stable/user_guide/indexing.html#returning-a-view-versus-a-copy\n",
      "  tox_inpute[\"nring\"] = nring_list\n",
      "/var/folders/3m/060_bbgs7pg8jq6cyzvjbmv40000gn/T/ipykernel_29759/527937087.py:20: SettingWithCopyWarning: \n",
      "A value is trying to be set on a copy of a slice from a DataFrame.\n",
      "Try using .loc[row_indexer,col_indexer] = value instead\n",
      "\n",
      "See the caveats in the documentation: https://pandas.pydata.org/pandas-docs/stable/user_guide/indexing.html#returning-a-view-versus-a-copy\n",
      "  tox_inpute[\"logP\"] = logP_list\n"
     ]
    },
    {
     "data": {
      "text/html": [
       "<div>\n",
       "<style scoped>\n",
       "    .dataframe tbody tr th:only-of-type {\n",
       "        vertical-align: middle;\n",
       "    }\n",
       "\n",
       "    .dataframe tbody tr th {\n",
       "        vertical-align: top;\n",
       "    }\n",
       "\n",
       "    .dataframe thead th {\n",
       "        text-align: right;\n",
       "    }\n",
       "</style>\n",
       "<table border=\"1\" class=\"dataframe\">\n",
       "  <thead>\n",
       "    <tr style=\"text-align: right;\">\n",
       "      <th></th>\n",
       "      <th>Unnamed: 0</th>\n",
       "      <th>index</th>\n",
       "      <th>ID</th>\n",
       "      <th>inchikey</th>\n",
       "      <th>sdftitle</th>\n",
       "      <th>order</th>\n",
       "      <th>set</th>\n",
       "      <th>CVfold</th>\n",
       "      <th>NR.AhR</th>\n",
       "      <th>NR.AR</th>\n",
       "      <th>...</th>\n",
       "      <th>SR.ATAD5</th>\n",
       "      <th>SR.HSE</th>\n",
       "      <th>SR.MMP</th>\n",
       "      <th>SR.p53</th>\n",
       "      <th>smiles</th>\n",
       "      <th>safe_for_body</th>\n",
       "      <th>mw</th>\n",
       "      <th>nn</th>\n",
       "      <th>nring</th>\n",
       "      <th>logP</th>\n",
       "    </tr>\n",
       "  </thead>\n",
       "  <tbody>\n",
       "    <tr>\n",
       "      <th>7292</th>\n",
       "      <td>7292</td>\n",
       "      <td>7295</td>\n",
       "      <td>NCGC00258093-01</td>\n",
       "      <td>MEHHPFQKXOUFFV-OWSLCNJRSA-N</td>\n",
       "      <td>NCGC00258093-01</td>\n",
       "      <td>7295</td>\n",
       "      <td>training</td>\n",
       "      <td>4.0</td>\n",
       "      <td>0.0</td>\n",
       "      <td>1.0</td>\n",
       "      <td>...</td>\n",
       "      <td>0.0</td>\n",
       "      <td>0.0</td>\n",
       "      <td>0.0</td>\n",
       "      <td>0.0</td>\n",
       "      <td>C[C@]12C=CC3=C4CCC(=O)C=C4CC[C@H]3[C@@H]1CC[C@...</td>\n",
       "      <td>0</td>\n",
       "      <td>270.372</td>\n",
       "      <td>0</td>\n",
       "      <td>4</td>\n",
       "      <td>3.3293</td>\n",
       "    </tr>\n",
       "    <tr>\n",
       "      <th>7455</th>\n",
       "      <td>7455</td>\n",
       "      <td>7458</td>\n",
       "      <td>NCGC00258721-01</td>\n",
       "      <td>YIYBRXKMQFDHSM-UHFFFAOYSA-N</td>\n",
       "      <td>NCGC00258721-01</td>\n",
       "      <td>7458</td>\n",
       "      <td>training</td>\n",
       "      <td>0.0</td>\n",
       "      <td>0.0</td>\n",
       "      <td>0.0</td>\n",
       "      <td>...</td>\n",
       "      <td>0.0</td>\n",
       "      <td>0.0</td>\n",
       "      <td>1.0</td>\n",
       "      <td>0.0</td>\n",
       "      <td>O=C(c1ccccc1O)c1ccccc1O</td>\n",
       "      <td>0</td>\n",
       "      <td>214.220</td>\n",
       "      <td>0</td>\n",
       "      <td>2</td>\n",
       "      <td>2.3288</td>\n",
       "    </tr>\n",
       "    <tr>\n",
       "      <th>7469</th>\n",
       "      <td>7469</td>\n",
       "      <td>7472</td>\n",
       "      <td>NCGC00258764-01</td>\n",
       "      <td>NPAGDVCDWIYMMC-IZPLOLCNSA-N</td>\n",
       "      <td>NCGC00258764-01</td>\n",
       "      <td>7472</td>\n",
       "      <td>training</td>\n",
       "      <td>1.0</td>\n",
       "      <td>0.0</td>\n",
       "      <td>1.0</td>\n",
       "      <td>...</td>\n",
       "      <td>0.0</td>\n",
       "      <td>0.0</td>\n",
       "      <td>0.0</td>\n",
       "      <td>0.0</td>\n",
       "      <td>C[C@]12CC[C@H]3[C@@H](CCC4=CC(=O)CC[C@@H]43)[C...</td>\n",
       "      <td>0</td>\n",
       "      <td>274.404</td>\n",
       "      <td>0</td>\n",
       "      <td>4</td>\n",
       "      <td>3.4891</td>\n",
       "    </tr>\n",
       "    <tr>\n",
       "      <th>7794</th>\n",
       "      <td>7794</td>\n",
       "      <td>7798</td>\n",
       "      <td>NCGC00254768-01</td>\n",
       "      <td>UELITFHSCLAHKR-UHFFFAOYSA-N</td>\n",
       "      <td>NCGC00254768-01</td>\n",
       "      <td>7798</td>\n",
       "      <td>training</td>\n",
       "      <td>0.0</td>\n",
       "      <td>0.0</td>\n",
       "      <td>0.0</td>\n",
       "      <td>...</td>\n",
       "      <td>0.0</td>\n",
       "      <td>0.0</td>\n",
       "      <td>0.0</td>\n",
       "      <td>0.0</td>\n",
       "      <td>CSC(=O)c1cccc2nnsc12</td>\n",
       "      <td>1</td>\n",
       "      <td>210.283</td>\n",
       "      <td>2</td>\n",
       "      <td>2</td>\n",
       "      <td>2.1945</td>\n",
       "    </tr>\n",
       "    <tr>\n",
       "      <th>7868</th>\n",
       "      <td>7868</td>\n",
       "      <td>7872</td>\n",
       "      <td>NCGC00256389-01</td>\n",
       "      <td>WBLZUCOIBUDNBV-UHFFFAOYSA-N</td>\n",
       "      <td>NCGC00256389-01</td>\n",
       "      <td>7872</td>\n",
       "      <td>training</td>\n",
       "      <td>0.0</td>\n",
       "      <td>0.0</td>\n",
       "      <td>0.0</td>\n",
       "      <td>...</td>\n",
       "      <td>0.0</td>\n",
       "      <td>0.0</td>\n",
       "      <td>0.0</td>\n",
       "      <td>0.0</td>\n",
       "      <td>O=C(O)CC[N+](=O)[O-]</td>\n",
       "      <td>1</td>\n",
       "      <td>119.076</td>\n",
       "      <td>1</td>\n",
       "      <td>0</td>\n",
       "      <td>-0.2622</td>\n",
       "    </tr>\n",
       "  </tbody>\n",
       "</table>\n",
       "<p>5 rows × 26 columns</p>\n",
       "</div>"
      ],
      "text/plain": [
       "      Unnamed: 0  index               ID                     inchikey  \\\n",
       "7292        7292   7295  NCGC00258093-01  MEHHPFQKXOUFFV-OWSLCNJRSA-N   \n",
       "7455        7455   7458  NCGC00258721-01  YIYBRXKMQFDHSM-UHFFFAOYSA-N   \n",
       "7469        7469   7472  NCGC00258764-01  NPAGDVCDWIYMMC-IZPLOLCNSA-N   \n",
       "7794        7794   7798  NCGC00254768-01  UELITFHSCLAHKR-UHFFFAOYSA-N   \n",
       "7868        7868   7872  NCGC00256389-01  WBLZUCOIBUDNBV-UHFFFAOYSA-N   \n",
       "\n",
       "             sdftitle  order       set  CVfold  NR.AhR  NR.AR  ...  SR.ATAD5  \\\n",
       "7292  NCGC00258093-01   7295  training     4.0     0.0    1.0  ...       0.0   \n",
       "7455  NCGC00258721-01   7458  training     0.0     0.0    0.0  ...       0.0   \n",
       "7469  NCGC00258764-01   7472  training     1.0     0.0    1.0  ...       0.0   \n",
       "7794  NCGC00254768-01   7798  training     0.0     0.0    0.0  ...       0.0   \n",
       "7868  NCGC00256389-01   7872  training     0.0     0.0    0.0  ...       0.0   \n",
       "\n",
       "      SR.HSE  SR.MMP  SR.p53  \\\n",
       "7292     0.0     0.0     0.0   \n",
       "7455     0.0     1.0     0.0   \n",
       "7469     0.0     0.0     0.0   \n",
       "7794     0.0     0.0     0.0   \n",
       "7868     0.0     0.0     0.0   \n",
       "\n",
       "                                                 smiles  safe_for_body  \\\n",
       "7292  C[C@]12C=CC3=C4CCC(=O)C=C4CC[C@H]3[C@@H]1CC[C@...              0   \n",
       "7455                            O=C(c1ccccc1O)c1ccccc1O              0   \n",
       "7469  C[C@]12CC[C@H]3[C@@H](CCC4=CC(=O)CC[C@@H]43)[C...              0   \n",
       "7794                               CSC(=O)c1cccc2nnsc12              1   \n",
       "7868                               O=C(O)CC[N+](=O)[O-]              1   \n",
       "\n",
       "           mw  nn  nring    logP  \n",
       "7292  270.372   0      4  3.3293  \n",
       "7455  214.220   0      2  2.3288  \n",
       "7469  274.404   0      4  3.4891  \n",
       "7794  210.283   2      2  2.1945  \n",
       "7868  119.076   1      0 -0.2622  \n",
       "\n",
       "[5 rows x 26 columns]"
      ]
     },
     "execution_count": 77,
     "metadata": {},
     "output_type": "execute_result"
    }
   ],
   "source": [
    "# load smiles\n",
    "\n",
    "mw_list = []\n",
    "nn_list = []\n",
    "nring_list = []\n",
    "logP_list = []\n",
    "\n",
    "for smi in tox_inpute[\"smiles\"]:\n",
    "    mol = Chem.MolFromSmiles(smi)\n",
    "    desc = desc_calc(mol)\n",
    "    \n",
    "    mw_list.append(desc[\"mw\"])\n",
    "    nn_list.append(desc[\"nn\"])\n",
    "    nring_list.append(desc[\"nring\"])\n",
    "    logP_list.append(desc[\"logP\"])\n",
    "    \n",
    "tox_inpute[\"mw\"] = mw_list\n",
    "tox_inpute[\"nn\"] = nn_list\n",
    "tox_inpute[\"nring\"] = nring_list\n",
    "tox_inpute[\"logP\"] = logP_list\n",
    "\n",
    "tox_inpute.head()\n",
    "     "
   ]
  },
  {
   "cell_type": "code",
   "execution_count": 78,
   "metadata": {},
   "outputs": [],
   "source": [
    "x_columns = ['mw',\n",
    "             'nn',\n",
    "             'nring',\n",
    "             'logP']"
   ]
  },
  {
   "cell_type": "code",
   "execution_count": 79,
   "metadata": {},
   "outputs": [
    {
     "name": "stdout",
     "output_type": "stream",
     "text": [
      "x shape:  (2542, 4) y_shape:  (2542,)\n"
     ]
    }
   ],
   "source": [
    "# Preprocess the dataset\n",
    "# x is new preprocess data, mw, nn, nring so on..\n",
    "# y is the toxicity columns\n",
    "\n",
    "x = tox_inpute.loc[:, x_columns].to_numpy()\n",
    "y = tox_inpute.loc[:, 'safe_for_body'].to_numpy()\n",
    "\n",
    "print(\"x shape: \", x.shape, \"y_shape: \", y.shape)\n",
    "\n",
    "# plt.scatter(x, y)"
   ]
  },
  {
   "cell_type": "code",
   "execution_count": 80,
   "metadata": {},
   "outputs": [],
   "source": [
    "# Split the dataset \n",
    "\n",
    "x_train, x_test, y_train, y_test = train_test_split(x, y, random_state=3300, train_size = 0.70, test_size= 0.30)"
   ]
  },
  {
   "cell_type": "code",
   "execution_count": 82,
   "metadata": {},
   "outputs": [
    {
     "data": {
      "text/html": [
       "<style>#sk-container-id-2 {color: black;background-color: white;}#sk-container-id-2 pre{padding: 0;}#sk-container-id-2 div.sk-toggleable {background-color: white;}#sk-container-id-2 label.sk-toggleable__label {cursor: pointer;display: block;width: 100%;margin-bottom: 0;padding: 0.3em;box-sizing: border-box;text-align: center;}#sk-container-id-2 label.sk-toggleable__label-arrow:before {content: \"▸\";float: left;margin-right: 0.25em;color: #696969;}#sk-container-id-2 label.sk-toggleable__label-arrow:hover:before {color: black;}#sk-container-id-2 div.sk-estimator:hover label.sk-toggleable__label-arrow:before {color: black;}#sk-container-id-2 div.sk-toggleable__content {max-height: 0;max-width: 0;overflow: hidden;text-align: left;background-color: #f0f8ff;}#sk-container-id-2 div.sk-toggleable__content pre {margin: 0.2em;color: black;border-radius: 0.25em;background-color: #f0f8ff;}#sk-container-id-2 input.sk-toggleable__control:checked~div.sk-toggleable__content {max-height: 200px;max-width: 100%;overflow: auto;}#sk-container-id-2 input.sk-toggleable__control:checked~label.sk-toggleable__label-arrow:before {content: \"▾\";}#sk-container-id-2 div.sk-estimator input.sk-toggleable__control:checked~label.sk-toggleable__label {background-color: #d4ebff;}#sk-container-id-2 div.sk-label input.sk-toggleable__control:checked~label.sk-toggleable__label {background-color: #d4ebff;}#sk-container-id-2 input.sk-hidden--visually {border: 0;clip: rect(1px 1px 1px 1px);clip: rect(1px, 1px, 1px, 1px);height: 1px;margin: -1px;overflow: hidden;padding: 0;position: absolute;width: 1px;}#sk-container-id-2 div.sk-estimator {font-family: monospace;background-color: #f0f8ff;border: 1px dotted black;border-radius: 0.25em;box-sizing: border-box;margin-bottom: 0.5em;}#sk-container-id-2 div.sk-estimator:hover {background-color: #d4ebff;}#sk-container-id-2 div.sk-parallel-item::after {content: \"\";width: 100%;border-bottom: 1px solid gray;flex-grow: 1;}#sk-container-id-2 div.sk-label:hover label.sk-toggleable__label {background-color: #d4ebff;}#sk-container-id-2 div.sk-serial::before {content: \"\";position: absolute;border-left: 1px solid gray;box-sizing: border-box;top: 0;bottom: 0;left: 50%;z-index: 0;}#sk-container-id-2 div.sk-serial {display: flex;flex-direction: column;align-items: center;background-color: white;padding-right: 0.2em;padding-left: 0.2em;position: relative;}#sk-container-id-2 div.sk-item {position: relative;z-index: 1;}#sk-container-id-2 div.sk-parallel {display: flex;align-items: stretch;justify-content: center;background-color: white;position: relative;}#sk-container-id-2 div.sk-item::before, #sk-container-id-2 div.sk-parallel-item::before {content: \"\";position: absolute;border-left: 1px solid gray;box-sizing: border-box;top: 0;bottom: 0;left: 50%;z-index: -1;}#sk-container-id-2 div.sk-parallel-item {display: flex;flex-direction: column;z-index: 1;position: relative;background-color: white;}#sk-container-id-2 div.sk-parallel-item:first-child::after {align-self: flex-end;width: 50%;}#sk-container-id-2 div.sk-parallel-item:last-child::after {align-self: flex-start;width: 50%;}#sk-container-id-2 div.sk-parallel-item:only-child::after {width: 0;}#sk-container-id-2 div.sk-dashed-wrapped {border: 1px dashed gray;margin: 0 0.4em 0.5em 0.4em;box-sizing: border-box;padding-bottom: 0.4em;background-color: white;}#sk-container-id-2 div.sk-label label {font-family: monospace;font-weight: bold;display: inline-block;line-height: 1.2em;}#sk-container-id-2 div.sk-label-container {text-align: center;}#sk-container-id-2 div.sk-container {/* jupyter's `normalize.less` sets `[hidden] { display: none; }` but bootstrap.min.css set `[hidden] { display: none !important; }` so we also need the `!important` here to be able to override the default hidden behavior on the sphinx rendered scikit-learn.org. See: https://github.com/scikit-learn/scikit-learn/issues/21755 */display: inline-block !important;position: relative;}#sk-container-id-2 div.sk-text-repr-fallback {display: none;}</style><div id=\"sk-container-id-2\" class=\"sk-top-container\"><div class=\"sk-text-repr-fallback\"><pre>LogisticRegression(max_iter=10000, solver=&#x27;saga&#x27;)</pre><b>In a Jupyter environment, please rerun this cell to show the HTML representation or trust the notebook. <br />On GitHub, the HTML representation is unable to render, please try loading this page with nbviewer.org.</b></div><div class=\"sk-container\" hidden><div class=\"sk-item\"><div class=\"sk-estimator sk-toggleable\"><input class=\"sk-toggleable__control sk-hidden--visually\" id=\"sk-estimator-id-2\" type=\"checkbox\" checked><label for=\"sk-estimator-id-2\" class=\"sk-toggleable__label sk-toggleable__label-arrow\">LogisticRegression</label><div class=\"sk-toggleable__content\"><pre>LogisticRegression(max_iter=10000, solver=&#x27;saga&#x27;)</pre></div></div></div></div></div>"
      ],
      "text/plain": [
       "LogisticRegression(max_iter=10000, solver='saga')"
      ]
     },
     "execution_count": 82,
     "metadata": {},
     "output_type": "execute_result"
    }
   ],
   "source": [
    "# Build the model\n",
    "# start with logistic regression\n",
    "\n",
    "log_reg_1 = LogisticRegression(solver='saga',max_iter=10000)\n",
    "log_reg_1.fit(x_train,y_train)"
   ]
  },
  {
   "cell_type": "code",
   "execution_count": 86,
   "metadata": {},
   "outputs": [
    {
     "name": "stdout",
     "output_type": "stream",
     "text": [
      "The accuracy of the prediction is 0.8401048492791612\n"
     ]
    }
   ],
   "source": [
    "# Test the accuracy of the set\n",
    "\n",
    "y_pred = log_reg_1.predict(x_test)\n",
    "\n",
    "acc = accuracy_score(y_test,y_pred)\n",
    "print(\"The accuracy of the prediction is {}\".format(acc))"
   ]
  },
  {
   "cell_type": "code",
   "execution_count": 202,
   "metadata": {},
   "outputs": [],
   "source": [
    "from sklearn.metrics import mean_squared_error\n",
    "\n",
    "##partition the data into training and validation randomly and plot the learning curve\n",
    "# learning curve with increasing number of examples will help us evaluate the model behavior.\n",
    "\n",
    "def plot_learning_curves(model, X, y):\n",
    "    X_train, X_val, y_train, y_val = train_test_split(X,y,test_size=0.2,random_state=3300)\n",
    "    train_errors = []\n",
    "    val_errors=[]\n",
    "    for m in range(3,len(x_train)):\n",
    "        model.fit(X_train[:m,], y_train[:m])\n",
    "        y_train_predict=model.predict(X_train[:m, :])\n",
    "        y_val_predict=model.predict(X_val[:m, :])\n",
    "        train_errors.append(mean_squared_error(y_train_predict,y_train[:m]))\n",
    "        val_errors.append(mean_squared_error(y_val_predict,y_val[:m]))\n",
    "    plt.axis([1,len(X_train),0,4])\n",
    "    plt.plot(np.sqrt(train_errors),\"r-+\", label=\"train\")\n",
    "    plt.plot(np.sqrt(val_errors),\"b-\", label=\"val\")"
   ]
  },
  {
   "cell_type": "code",
   "execution_count": 203,
   "metadata": {},
   "outputs": [
    {
     "name": "stdout",
     "output_type": "stream",
     "text": [
      "[[ 62.068    0.       0.      -1.029 ]\n",
      " [306.409    2.       3.       4.5488]\n",
      " [232.205    2.       1.       2.7989]\n",
      " [150.177    0.       1.       1.7497]\n",
      " [112.176    2.       3.      -0.3824]\n",
      " [236.274    2.       3.       3.3872]\n",
      " [160.216    0.       2.       2.6694]\n",
      " [335.831    1.       5.       1.9229]\n",
      " [140.569    0.       1.       2.0656]\n",
      " [207.229    1.       1.       1.6128]]\n",
      "[1 1 1 1 1 1 0 0 1 0]\n"
     ]
    },
    {
     "data": {
      "image/png": "[encoded data removed]",
      "text/plain": [
       "<Figure size 640x480 with 1 Axes>"
      ]
     },
     "metadata": {},
     "output_type": "display_data"
    }
   ],
   "source": [
    "# Check the logistic\n",
    "\n",
    "log_reg_2 = LogisticRegression()\n",
    "log_reg_2.fit(x_test, y_test)\n",
    "\n",
    "plot_learning_curves(log_reg_2, x_train, y_train)\n",
    "print(x_train[:10,])\n",
    "print(y_train[:10])"
   ]
  },
  {
   "cell_type": "code",
   "execution_count": 204,
   "metadata": {},
   "outputs": [
    {
     "name": "stdout",
     "output_type": "stream",
     "text": [
      "The accuracy of the prediction is 0.8401048492791612\n"
     ]
    }
   ],
   "source": [
    "# Test the accuracy of the set\n",
    "\n",
    "y_pred = log_reg_2.predict(x_test)\n",
    "\n",
    "acc = accuracy_score(y_test,y_pred)\n",
    "print(\"The accuracy of the prediction is {}\".format(acc))"
   ]
  },
  {
   "cell_type": "code",
   "execution_count": 205,
   "metadata": {},
   "outputs": [
    {
     "data": {
      "text/plain": [
       "<matplotlib.collections.PathCollection at 0x118c56170>"
      ]
     },
     "execution_count": 205,
     "metadata": {},
     "output_type": "execute_result"
    },
    {
     "data": {
      "image/png": "[encoded data removed]",
      "text/plain": [
       "<Figure size 640x480 with 1 Axes>"
      ]
     },
     "metadata": {},
     "output_type": "display_data"
    }
   ],
   "source": [
    "plt.scatter(x_train[:, 0], y_train)"
   ]
  },
  {
   "cell_type": "code",
   "execution_count": null,
   "metadata": {},
   "outputs": [],
   "source": []
  }
 ],
 "metadata": {
  "kernelspec": {
   "display_name": "base",
   "language": "python",
   "name": "python3"
  },
  "language_info": {
   "codemirror_mode": {
    "name": "ipython",
    "version": 3
   },
   "file_extension": ".py",
   "mimetype": "text/x-python",
   "name": "python",
   "nbconvert_exporter": "python",
   "pygments_lexer": "ipython3",
   "version": "3.10.9"
  }
 },
 "nbformat": 4,
 "nbformat_minor": 2
}
